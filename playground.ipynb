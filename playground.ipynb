{
 "cells": [
  {
   "cell_type": "code",
   "execution_count": 6,
   "metadata": {},
   "outputs": [
    {
     "name": "stdout",
     "output_type": "stream",
     "text": [
      "-0.005111375333265222\n"
     ]
    }
   ],
   "source": [
    "import numpy as np\n",
    "import matplotlib.pyplot as plt\n",
    "from app.trade_optimizer import get_optimal_trades\n",
    "from app import generation, evaluate, my_solver, trade_simulator\n",
    "\n",
    "\n",
    "def generate_price(random_seed, sine_count):\n",
    "    rnd = np.random.RandomState(random_seed)\n",
    "    train_size = 100\n",
    "    test_size = 1_000\n",
    "    size = train_size + test_size\n",
    "    t = np.linspace(0, 1, num=size)\n",
    "\n",
    "    base = rnd.uniform(200, 300)    \n",
    "    trend = rnd.uniform(-100, 100)\n",
    "    price = np.full(size, base) + trend * t\n",
    "    for _ in range(sine_count):\n",
    "        scale = rnd.uniform(5, 15)\n",
    "        period_count = rnd.uniform(10, 100)\n",
    "        price += scale * np.sin(2 * np.pi * period_count * t)\n",
    "\n",
    "    return price[:train_size].astype(np.int), price[-test_size:]\n",
    "\n",
    "train, test = generate_price(random_seed=1, sine_count=2)\n",
    "optimal_trades = get_optimal_trades(test)\n",
    "\n",
    "trades, _, _ = my_solver.solve(\n",
    "    0, train, test.shape[0], 2\n",
    ")\n",
    "\n",
    "money = trade_simulator.simulate(\n",
    "    test, train.shape[0], trades\n",
    ")\n",
    "\n",
    "optimal_money = trade_simulator.simulate(\n",
    "    test, 0, optimal_trades\n",
    ")\n",
    "\n",
    "print(money - optimal_money)\n",
    "\n",
    "# fig = plt.figure()\n",
    "# fig.set_size_inches(16, 4)\n",
    "# plt.plot(np.arange(train.shape[0]), train)\n",
    "# plt.plot(train.shape[0] + np.arange(test.shape[0]), test)\n",
    "# plt.show()"
   ]
  }
 ],
 "metadata": {
  "kernelspec": {
   "display_name": "Python 3",
   "language": "python",
   "name": "python3"
  },
  "language_info": {
   "codemirror_mode": {
    "name": "ipython",
    "version": 3
   },
   "file_extension": ".py",
   "mimetype": "text/x-python",
   "name": "python",
   "nbconvert_exporter": "python",
   "pygments_lexer": "ipython3",
   "version": "3.7.4"
  }
 },
 "nbformat": 4,
 "nbformat_minor": 2
}
